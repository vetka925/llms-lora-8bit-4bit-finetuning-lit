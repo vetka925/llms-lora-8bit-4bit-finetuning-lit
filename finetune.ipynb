{
 "cells": [
  {
   "cell_type": "code",
   "execution_count": 2,
   "metadata": {
    "tags": []
   },
   "outputs": [
    {
     "name": "stdout",
     "output_type": "stream",
     "text": [
      "\n",
      "===================================BUG REPORT===================================\n",
      "Welcome to bitsandbytes. For bug reports, please submit your error trace to: https://github.com/TimDettmers/bitsandbytes/issues\n",
      "================================================================================\n",
      "CUDA_SETUP: WARNING! libcudart.so not found in any environmental path. Searching /usr/local/cuda/lib64...\n",
      "CUDA SETUP: CUDA runtime path found: /usr/local/cuda/lib64/libcudart.so\n",
      "CUDA SETUP: Highest compute capability among GPUs detected: 6.1\n",
      "CUDA SETUP: Detected CUDA version 117\n",
      "CUDA SETUP: Loading binary /home/vetka/miniconda3/envs/transformers/lib/python3.10/site-packages/bitsandbytes/libbitsandbytes_cuda117_nocublaslt.so...\n"
     ]
    },
    {
     "name": "stderr",
     "output_type": "stream",
     "text": [
      "/home/vetka/miniconda3/envs/transformers/lib/python3.10/site-packages/bitsandbytes/cuda_setup/main.py:136: UserWarning: /home/vetka/miniconda3/envs/transformers did not contain libcudart.so as expected! Searching further paths...\n",
      "  warn(msg)\n",
      "/home/vetka/miniconda3/envs/transformers/lib/python3.10/site-packages/bitsandbytes/cuda_setup/main.py:136: UserWarning: WARNING: The following directories listed in your path were found to be non-existent: {PosixPath('unix')}\n",
      "  warn(msg)\n",
      "/home/vetka/miniconda3/envs/transformers/lib/python3.10/site-packages/bitsandbytes/cuda_setup/main.py:136: UserWarning: WARNING: The following directories listed in your path were found to be non-existent: {PosixPath('VSCODE_WSL_EXT_LOCATION/up')}\n",
      "  warn(msg)\n",
      "/home/vetka/miniconda3/envs/transformers/lib/python3.10/site-packages/bitsandbytes/cuda_setup/main.py:136: UserWarning: WARNING: The following directories listed in your path were found to be non-existent: {PosixPath('vs/workbench/api/node/extensionHostProcess')}\n",
      "  warn(msg)\n",
      "/home/vetka/miniconda3/envs/transformers/lib/python3.10/site-packages/bitsandbytes/cuda_setup/main.py:136: UserWarning: WARNING: The following directories listed in your path were found to be non-existent: {PosixPath('//matplotlib_inline.backend_inline'), PosixPath('module')}\n",
      "  warn(msg)\n",
      "/home/vetka/miniconda3/envs/transformers/lib/python3.10/site-packages/bitsandbytes/cuda_setup/main.py:136: UserWarning: WARNING: Compute capability < 7.5 detected! Only slow 8-bit matmul is supported for your GPU!\n",
      "  warn(msg)\n"
     ]
    }
   ],
   "source": [
    "import os\n",
    "import wandb\n",
    "import pytorch_lightning as pl\n",
    "from pytorch_lightning.loggers import WandbLogger\n",
    "import pandas as pd\n",
    "import transformers\n",
    "from datasets import load_dataset\n",
    "import torch \n",
    "from tqdm import tqdm\n",
    "\n",
    "from custom_datasets import PromptDataset\n",
    "from finetuners import FinetunerConfig, GPTJ4bitFineTuner, GPTJ8bitFineTuner, LLaMA4bitFineTuner, LLaMA8bitFineTuner\n",
    "\n",
    "\n",
    "LLAMA_7B_MODEL_PATH = 'decapoda-research/llama-7b-hf'\n",
    "# !wget https://huggingface.co/decapoda-research/llama-7b-hf-int4/resolve/main/llama-7b-4bit.pt\n",
    "LLAMA_7B_4BIT_CHECKPOINT_PATH = './llama-7b-4bit.pt'\n",
    "\n",
    "LLAMA_13B_MODEL_PATH = 'decapoda-research/llama-13b-hf'\n",
    "# !wget https://huggingface.co/decapoda-research/llama-13b-hf-int4/resolve/main/llama-13b-4bit.pt\n",
    "LLAMA_13B_4BIT_CHECKPOINT_PATH = './llama-13b-4bit.pt'\n",
    "\n",
    "GPTJ_6B_MODEL_PATH = 'EleutherAI/gpt-j-6B'"
   ]
  },
  {
   "cell_type": "markdown",
   "metadata": {},
   "source": [
    "The article on [Medium](https://medium.com/@vitaley.grechachin/how-to-train-a-capable-gpt-3-model-at-home-9c5b400ca7f), [Habr]()"
   ]
  },
  {
   "cell_type": "markdown",
   "metadata": {},
   "source": [
    "# Prepare Data\n",
    "## Required Data:\n",
    " * train and/or validation pandas DataFrame with two columns: prompt, completion\n",
    " * prompt + completion length must be less than 2048 tokens\n",
    " * For classification metrics completion must be 1 token\n"
   ]
  },
  {
   "cell_type": "code",
   "execution_count": 3,
   "metadata": {},
   "outputs": [
    {
     "data": {
      "text/html": [
       "<div>\n",
       "<style scoped>\n",
       "    .dataframe tbody tr th:only-of-type {\n",
       "        vertical-align: middle;\n",
       "    }\n",
       "\n",
       "    .dataframe tbody tr th {\n",
       "        vertical-align: top;\n",
       "    }\n",
       "\n",
       "    .dataframe thead th {\n",
       "        text-align: right;\n",
       "    }\n",
       "</style>\n",
       "<table border=\"1\" class=\"dataframe\">\n",
       "  <thead>\n",
       "    <tr style=\"text-align: right;\">\n",
       "      <th></th>\n",
       "      <th>label</th>\n",
       "      <th>text</th>\n",
       "    </tr>\n",
       "  </thead>\n",
       "  <tbody>\n",
       "    <tr>\n",
       "      <th>0</th>\n",
       "      <td>offensive</td>\n",
       "      <td>RT @RAYCHIELOVESU: No &amp;#8220;@3rdeyechillin: T...</td>\n",
       "    </tr>\n",
       "    <tr>\n",
       "      <th>1</th>\n",
       "      <td>neutral</td>\n",
       "      <td>&amp;#8220;@__Black_Jesus: &amp;#8220;@lil_aerii: Happ...</td>\n",
       "    </tr>\n",
       "    <tr>\n",
       "      <th>2</th>\n",
       "      <td>hate</td>\n",
       "      <td>&amp;#8220;@iamkrause: No need to thank me, killin...</td>\n",
       "    </tr>\n",
       "    <tr>\n",
       "      <th>3</th>\n",
       "      <td>offensive</td>\n",
       "      <td>RT @tr4pb0y: when the pussy so good &amp;amp; u fo...</td>\n",
       "    </tr>\n",
       "    <tr>\n",
       "      <th>4</th>\n",
       "      <td>offensive</td>\n",
       "      <td>I talk to these bitches like I really do care.</td>\n",
       "    </tr>\n",
       "  </tbody>\n",
       "</table>\n",
       "</div>"
      ],
      "text/plain": [
       "       label                                               text\n",
       "0  offensive  RT @RAYCHIELOVESU: No &#8220;@3rdeyechillin: T...\n",
       "1    neutral  &#8220;@__Black_Jesus: &#8220;@lil_aerii: Happ...\n",
       "2       hate  &#8220;@iamkrause: No need to thank me, killin...\n",
       "3  offensive  RT @tr4pb0y: when the pussy so good &amp; u fo...\n",
       "4  offensive     I talk to these bitches like I really do care."
      ]
     },
     "execution_count": 3,
     "metadata": {},
     "output_type": "execute_result"
    }
   ],
   "source": [
    "# example data\n",
    "\n",
    "train_df = pd.read_csv('./data/train.csv')\n",
    "val_df = pd.read_csv('./data/val.csv')\n",
    "\n",
    "train_df.head()"
   ]
  },
  {
   "cell_type": "code",
   "execution_count": 4,
   "metadata": {},
   "outputs": [
    {
     "data": {
      "text/html": [
       "<div>\n",
       "<style scoped>\n",
       "    .dataframe tbody tr th:only-of-type {\n",
       "        vertical-align: middle;\n",
       "    }\n",
       "\n",
       "    .dataframe tbody tr th {\n",
       "        vertical-align: top;\n",
       "    }\n",
       "\n",
       "    .dataframe thead th {\n",
       "        text-align: right;\n",
       "    }\n",
       "</style>\n",
       "<table border=\"1\" class=\"dataframe\">\n",
       "  <thead>\n",
       "    <tr style=\"text-align: right;\">\n",
       "      <th></th>\n",
       "      <th>label</th>\n",
       "      <th>text</th>\n",
       "    </tr>\n",
       "  </thead>\n",
       "  <tbody>\n",
       "    <tr>\n",
       "      <th>0</th>\n",
       "      <td>neutral</td>\n",
       "      <td>RT @Black__Elvis: My favorite episode of Frien...</td>\n",
       "    </tr>\n",
       "    <tr>\n",
       "      <th>1</th>\n",
       "      <td>hate</td>\n",
       "      <td>RT @TankTopshotta: A real nigga gone teach his...</td>\n",
       "    </tr>\n",
       "    <tr>\n",
       "      <th>2</th>\n",
       "      <td>hate</td>\n",
       "      <td>Shoot that nigga an his shorty bitch .</td>\n",
       "    </tr>\n",
       "    <tr>\n",
       "      <th>3</th>\n",
       "      <td>hate</td>\n",
       "      <td>@_XoXoKelsey_ hell naw fuck them bitches serve...</td>\n",
       "    </tr>\n",
       "    <tr>\n",
       "      <th>4</th>\n",
       "      <td>neutral</td>\n",
       "      <td>@syd_renae okay cool then I'm not the only one...</td>\n",
       "    </tr>\n",
       "  </tbody>\n",
       "</table>\n",
       "</div>"
      ],
      "text/plain": [
       "     label                                               text\n",
       "0  neutral  RT @Black__Elvis: My favorite episode of Frien...\n",
       "1     hate  RT @TankTopshotta: A real nigga gone teach his...\n",
       "2     hate             Shoot that nigga an his shorty bitch .\n",
       "3     hate  @_XoXoKelsey_ hell naw fuck them bitches serve...\n",
       "4  neutral  @syd_renae okay cool then I'm not the only one..."
      ]
     },
     "execution_count": 4,
     "metadata": {},
     "output_type": "execute_result"
    }
   ],
   "source": [
    "val_df.head()"
   ]
  },
  {
   "cell_type": "code",
   "execution_count": 5,
   "metadata": {},
   "outputs": [
    {
     "data": {
      "text/plain": [
       "<AxesSubplot: >"
      ]
     },
     "execution_count": 5,
     "metadata": {},
     "output_type": "execute_result"
    },
    {
     "data": {
      "image/png": "[encoded data removed]",
      "text/plain": [
       "<Figure size 640x480 with 1 Axes>"
      ]
     },
     "metadata": {},
     "output_type": "display_data"
    }
   ],
   "source": [
    "train_df['label'].hist()"
   ]
  },
  {
   "cell_type": "code",
   "execution_count": 24,
   "metadata": {},
   "outputs": [
    {
     "data": {
      "text/html": [
       "<div>\n",
       "<style scoped>\n",
       "    .dataframe tbody tr th:only-of-type {\n",
       "        vertical-align: middle;\n",
       "    }\n",
       "\n",
       "    .dataframe tbody tr th {\n",
       "        vertical-align: top;\n",
       "    }\n",
       "\n",
       "    .dataframe thead th {\n",
       "        text-align: right;\n",
       "    }\n",
       "</style>\n",
       "<table border=\"1\" class=\"dataframe\">\n",
       "  <thead>\n",
       "    <tr style=\"text-align: right;\">\n",
       "      <th></th>\n",
       "      <th>label</th>\n",
       "      <th>text</th>\n",
       "      <th>completion</th>\n",
       "      <th>prompt</th>\n",
       "    </tr>\n",
       "  </thead>\n",
       "  <tbody>\n",
       "    <tr>\n",
       "      <th>0</th>\n",
       "      <td>offensive</td>\n",
       "      <td>RT @RAYCHIELOVESU: No &amp;#8220;@3rdeyechillin: T...</td>\n",
       "      <td>off</td>\n",
       "      <td>Classify the following messages into one of th...</td>\n",
       "    </tr>\n",
       "    <tr>\n",
       "      <th>1</th>\n",
       "      <td>neutral</td>\n",
       "      <td>&amp;#8220;@__Black_Jesus: &amp;#8220;@lil_aerii: Happ...</td>\n",
       "      <td>neutral</td>\n",
       "      <td>Classify the following messages into one of th...</td>\n",
       "    </tr>\n",
       "    <tr>\n",
       "      <th>2</th>\n",
       "      <td>hate</td>\n",
       "      <td>&amp;#8220;@iamkrause: No need to thank me, killin...</td>\n",
       "      <td>hate</td>\n",
       "      <td>Classify the following messages into one of th...</td>\n",
       "    </tr>\n",
       "    <tr>\n",
       "      <th>3</th>\n",
       "      <td>offensive</td>\n",
       "      <td>RT @tr4pb0y: when the pussy so good &amp;amp; u fo...</td>\n",
       "      <td>off</td>\n",
       "      <td>Classify the following messages into one of th...</td>\n",
       "    </tr>\n",
       "    <tr>\n",
       "      <th>4</th>\n",
       "      <td>offensive</td>\n",
       "      <td>I talk to these bitches like I really do care.</td>\n",
       "      <td>off</td>\n",
       "      <td>Classify the following messages into one of th...</td>\n",
       "    </tr>\n",
       "  </tbody>\n",
       "</table>\n",
       "</div>"
      ],
      "text/plain": [
       "       label                                               text completion  \\\n",
       "0  offensive  RT @RAYCHIELOVESU: No &#8220;@3rdeyechillin: T...        off   \n",
       "1    neutral  &#8220;@__Black_Jesus: &#8220;@lil_aerii: Happ...    neutral   \n",
       "2       hate  &#8220;@iamkrause: No need to thank me, killin...       hate   \n",
       "3  offensive  RT @tr4pb0y: when the pussy so good &amp; u fo...        off   \n",
       "4  offensive     I talk to these bitches like I really do care.        off   \n",
       "\n",
       "                                              prompt  \n",
       "0  Classify the following messages into one of th...  \n",
       "1  Classify the following messages into one of th...  \n",
       "2  Classify the following messages into one of th...  \n",
       "3  Classify the following messages into one of th...  \n",
       "4  Classify the following messages into one of th...  "
      ]
     },
     "execution_count": 24,
     "metadata": {},
     "output_type": "execute_result"
    }
   ],
   "source": [
    "# We can create prompt in 2 ways: instruction or raw text\n",
    "# For instruction propmpt we will use a human understandable textual instruction.\n",
    "# For raw prompt we will use raw text with special separator between propmpt and completion\n",
    "\n",
    "def create_instruction_prompt(text, all_labels):\n",
    "    prompt =  f'''Classify the following messages into one of the following categories: {', '.join(all_labels)}\n",
    "\n",
    "Message: {text}\n",
    "\n",
    "Category:'''\n",
    "    return prompt\n",
    "\n",
    "def create_raw_prompt(text):\n",
    "    prompt =  f'''{text} /n/n###/n/n'''\n",
    "    return prompt\n",
    "\n",
    "# For classification task we need 1 token completion. The completion token must be in model vocabulary. \n",
    "\n",
    "# GPTJ\n",
    "# GPTJ tokenization required completion tokens started with whitespace.\n",
    "\n",
    "# train_df['completion'] = train_df['label'].apply(lambda x: ' '+ x)\n",
    "# val_df['completion'] = val_df['label'].apply(lambda x: ' ' + x)\n",
    "\n",
    "#LLaMA\n",
    "to_replace = {'offensive': 'off'}\n",
    "train_df['completion'] = train_df['label'].replace(to_replace)\n",
    "val_df['completion'] = val_df['label'].replace(to_replace)\n",
    "\n",
    "# instruction based prompt\n",
    "all_labels = set(train_df['completion'].apply(lambda x: x.strip()).unique())\n",
    "train_df['prompt'] = train_df['text'].apply(lambda x: create_instruction_prompt(x, all_labels))\n",
    "val_df['prompt'] = val_df['text'].apply(lambda x: create_instruction_prompt(x, all_labels))\n",
    "\n",
    "\n",
    "train_df.head()"
   ]
  },
  {
   "cell_type": "markdown",
   "metadata": {},
   "source": [
    "### Prepare training and validation samples"
   ]
  },
  {
   "cell_type": "code",
   "execution_count": 25,
   "metadata": {},
   "outputs": [
    {
     "name": "stderr",
     "output_type": "stream",
     "text": [
      "The tokenizer class you load from this checkpoint is not the same type as the class this function is called from. It may result in unexpected tokenization. \n",
      "The tokenizer class you load from this checkpoint is 'LLaMATokenizer'. \n",
      "The class this function is called from is 'LlamaTokenizer'.\n"
     ]
    }
   ],
   "source": [
    "# Create torch Datasets with prepared finetuning samples\n",
    "\n",
    "# Load tokenizer and add padding token\n",
    "\n",
    "# GPTJ\n",
    "# tokenizer = transformers.AutoTokenizer.from_pretrained(\"EleutherAI/gpt-j-6B\")\n",
    "# tokenizer.pad_token = tokenizer.eos_token\n",
    "\n",
    "# LLaMA\n",
    "tokenizer = transformers.LlamaTokenizer.from_pretrained(\n",
    "    \"decapoda-research/llama-7b-hf\", add_eos_token=False\n",
    ")\n",
    "\n",
    "# Define max_prompt_size. Used to pad short prompts and truncate large prompts. Need for batching or fitting VRAM.\n",
    "# We will take 0.99 quantile tokenized prompt length plus 1 token for completion. \n",
    "# Notice that we truncate only propmpt not completion.\n",
    "\n",
    "max_prompt_size = int(pd.Series(len(tokenizer.tokenize(e)) for e in (train_df['prompt'] + ' ' + train_df['completion'])).quantile(0.99)) + 1\n",
    "\n",
    "\n",
    "train_dataset = PromptDataset(train_df, tokenizer, max_prompt_len=max_prompt_size)\n",
    "val_dataset = PromptDataset(val_df, tokenizer, max_prompt_len=max_prompt_size)"
   ]
  },
  {
   "cell_type": "markdown",
   "metadata": {},
   "source": [
    "# Finetuning of the best model"
   ]
  },
  {
   "cell_type": "code",
   "execution_count": 31,
   "metadata": {
    "tags": []
   },
   "outputs": [
    {
     "name": "stderr",
     "output_type": "stream",
     "text": [
      "Global seed set to 100\n",
      "Failed to detect the name of this notebook, you can set it manually with the WANDB_NOTEBOOK_NAME environment variable to enable code saving.\n",
      "\u001b[34m\u001b[1mwandb\u001b[0m: Currently logged in as: \u001b[33mvetka925\u001b[0m. Use \u001b[1m`wandb login --relogin`\u001b[0m to force relogin\n"
     ]
    },
    {
     "data": {
      "application/vnd.jupyter.widget-view+json": {
       "model_id": "74bd472b700841eb9cbe26d9dcde9771",
       "version_major": 2,
       "version_minor": 0
      },
      "text/plain": [
       "VBox(children=(Label(value='Waiting for wandb.init()...\\r'), FloatProgress(value=0.016669246083332232, max=1.0…"
      ]
     },
     "metadata": {},
     "output_type": "display_data"
    },
    {
     "data": {
      "text/html": [
       "wandb version 0.14.1 is available!  To upgrade, please run:\n",
       " $ pip install wandb --upgrade"
      ],
      "text/plain": [
       "<IPython.core.display.HTML object>"
      ]
     },
     "metadata": {},
     "output_type": "display_data"
    },
    {
     "data": {
      "text/html": [
       "Tracking run with wandb version 0.13.11"
      ],
      "text/plain": [
       "<IPython.core.display.HTML object>"
      ]
     },
     "metadata": {},
     "output_type": "display_data"
    },
    {
     "data": {
      "text/html": [
       "Run data is saved locally in <code>./wandb/run-20230406_105734-3ptgsv93</code>"
      ],
      "text/plain": [
       "<IPython.core.display.HTML object>"
      ]
     },
     "metadata": {},
     "output_type": "display_data"
    },
    {
     "data": {
      "text/html": [
       "Syncing run <strong><a href='https://wandb.ai/vetka925/LLM_finetuning_hatetweets/runs/3ptgsv93' target=\"_blank\">LLaMA_7B_8BIT_attention_lora</a></strong> to <a href='https://wandb.ai/vetka925/LLM_finetuning_hatetweets' target=\"_blank\">Weights & Biases</a> (<a href='https://wandb.me/run' target=\"_blank\">docs</a>)<br/>"
      ],
      "text/plain": [
       "<IPython.core.display.HTML object>"
      ]
     },
     "metadata": {},
     "output_type": "display_data"
    },
    {
     "data": {
      "text/html": [
       " View project at <a href='https://wandb.ai/vetka925/LLM_finetuning_hatetweets' target=\"_blank\">https://wandb.ai/vetka925/LLM_finetuning_hatetweets</a>"
      ],
      "text/plain": [
       "<IPython.core.display.HTML object>"
      ]
     },
     "metadata": {},
     "output_type": "display_data"
    },
    {
     "data": {
      "text/html": [
       " View run at <a href='https://wandb.ai/vetka925/LLM_finetuning_hatetweets/runs/3ptgsv93' target=\"_blank\">https://wandb.ai/vetka925/LLM_finetuning_hatetweets/runs/3ptgsv93</a>"
      ],
      "text/plain": [
       "<IPython.core.display.HTML object>"
      ]
     },
     "metadata": {},
     "output_type": "display_data"
    },
    {
     "name": "stderr",
     "output_type": "stream",
     "text": [
      "Overriding torch_dtype=None with `torch_dtype=torch.float16` due to requirements of `bitsandbytes` to enable model loading in mixed int8. Either pass torch_dtype=torch.float16 or don't pass this argument at all to remove this warning.\n"
     ]
    },
    {
     "data": {
      "application/vnd.jupyter.widget-view+json": {
       "model_id": "6fa30c10993f4f1f8e7d97d80c5ee843",
       "version_major": 2,
       "version_minor": 0
      },
      "text/plain": [
       "Loading checkpoint shards:   0%|          | 0/33 [00:00<?, ?it/s]"
      ]
     },
     "metadata": {},
     "output_type": "display_data"
    },
    {
     "name": "stderr",
     "output_type": "stream",
     "text": [
      "GPU available: True (cuda), used: True\n",
      "TPU available: False, using: 0 TPU cores\n",
      "IPU available: False, using: 0 IPUs\n",
      "HPU available: False, using: 0 HPUs\n",
      "LOCAL_RANK: 0 - CUDA_VISIBLE_DEVICES: [0]\n",
      "/home/vetka/miniconda3/envs/transformers/lib/python3.10/site-packages/transformers/optimization.py:391: FutureWarning: This implementation of AdamW is deprecated and will be removed in a future version. Use the PyTorch implementation torch.optim.AdamW instead, or set `no_deprecation_warning=True` to disable this warning\n",
      "  warnings.warn(\n",
      "\n",
      "  | Name  | Type                 | Params\n",
      "-----------------------------------------------\n",
      "0 | model | PeftModelForCausalLM | 6.7 B \n",
      "-----------------------------------------------\n",
      "2.1 M     Trainable params\n",
      "6.7 B     Non-trainable params\n",
      "6.7 B     Total params\n",
      "26,962.051Total estimated model params size (MB)\n"
     ]
    },
    {
     "data": {
      "application/vnd.jupyter.widget-view+json": {
       "model_id": "b3c3c535d9cf422a9f06dd1ea25e83ef",
       "version_major": 2,
       "version_minor": 0
      },
      "text/plain": [
       "Sanity Checking: 0it [00:00, ?it/s]"
      ]
     },
     "metadata": {},
     "output_type": "display_data"
    },
    {
     "name": "stderr",
     "output_type": "stream",
     "text": [
      "/home/vetka/miniconda3/envs/transformers/lib/python3.10/site-packages/pytorch_lightning/trainer/connectors/data_connector.py:488: PossibleUserWarning: Your `val_dataloader`'s sampler has shuffling enabled, it is strongly recommended that you turn shuffling off for val/test/predict dataloaders.\n",
      "  rank_zero_warn(\n",
      "/home/vetka/miniconda3/envs/transformers/lib/python3.10/site-packages/pytorch_lightning/trainer/connectors/data_connector.py:224: PossibleUserWarning: The dataloader, val_dataloader 0, does not have many workers which may be a bottleneck. Consider increasing the value of the `num_workers` argument` (try 24 which is the number of cpus on this machine) in the `DataLoader` init to improve performance.\n",
      "  rank_zero_warn(\n",
      "/home/vetka/miniconda3/envs/transformers/lib/python3.10/site-packages/pytorch_lightning/trainer/connectors/logger_connector/result.py:232: UserWarning: You called `self.log('val_total_epoch_samples', ...)` in your `on_validation_epoch_end` but the value needs to be floating point. Converting it to torch.float32.\n",
      "  warning_cache.warn(\n",
      "/home/vetka/miniconda3/envs/transformers/lib/python3.10/site-packages/pytorch_lightning/trainer/connectors/data_connector.py:224: PossibleUserWarning: The dataloader, train_dataloader, does not have many workers which may be a bottleneck. Consider increasing the value of the `num_workers` argument` (try 24 which is the number of cpus on this machine) in the `DataLoader` init to improve performance.\n",
      "  rank_zero_warn(\n"
     ]
    },
    {
     "data": {
      "application/vnd.jupyter.widget-view+json": {
       "model_id": "8de4d20c07ce45bd800dc4fa6e9de1ad",
       "version_major": 2,
       "version_minor": 0
      },
      "text/plain": [
       "Training: 0it [00:00, ?it/s]"
      ]
     },
     "metadata": {},
     "output_type": "display_data"
    },
    {
     "data": {
      "application/vnd.jupyter.widget-view+json": {
       "model_id": "f075315075d24649b65d99a1bf59c244",
       "version_major": 2,
       "version_minor": 0
      },
      "text/plain": [
       "Validation: 0it [00:00, ?it/s]"
      ]
     },
     "metadata": {},
     "output_type": "display_data"
    }
   ],
   "source": [
    "pl.seed_everything(100)\n",
    "\n",
    "# logging in wandb\n",
    "WANDB_PROJECT = \"LLM_finetuning_hatetweets\"\n",
    "RUN_NAME = 'LLaMA_7B_8BIT_attention_lora'\n",
    "wandb.login()\n",
    "wandb_logger = WandbLogger(project=WANDB_PROJECT, name=RUN_NAME)\n",
    "\n",
    "\n",
    "\n",
    "# Configuration\n",
    "config = FinetunerConfig(target_lora_modules=[\"q_proj\", \"v_proj\", \"o_proj\", \"k_proj\"],\n",
    "                        lr=1e-4, \n",
    "                        batch_size=2,\n",
    "                        num_epochs=3, \n",
    "                        adapter_dim=4,\n",
    "                        lora_dropout=0,\n",
    "                        lora_alpha=16,\n",
    "                        classification=True)\n",
    "\n",
    "\n",
    "# finetuner = GPTJ8bitFineTuner(\n",
    "#                                 model_name=GPTJ_6B_MODEL_PATH,\n",
    "#                                 fine_tuning_config=config, \n",
    "#                                 train_dataset=train_dataset,\n",
    "#                                 val_dataset=val_dataset)\n",
    "\n",
    "# finetuner = LLaMA4bitFineTuner(\n",
    "#                                 model_name=LLAMA_7B_MODEL_PATH,\n",
    "#                                 checkpoint_path='./llama-7b-4bit.pt',\n",
    "#                                 fine_tuning_config=config, \n",
    "#                                 train_dataset=train_dataset,\n",
    "#                                 val_dataset=val_dataset)\n",
    "\n",
    "finetuner = LLaMA8bitFineTuner(\n",
    "                                model_name=LLAMA_7B_MODEL_PATH,\n",
    "                                fine_tuning_config=config, \n",
    "                                train_dataset=train_dataset,\n",
    "                                val_dataset=val_dataset)\n",
    "\n",
    "finetuner.load()\n",
    "\n",
    "trainer = pl.Trainer(   logger=wandb_logger,    \n",
    "                        log_every_n_steps=1,  \n",
    "                        accelerator=\"gpu\",                \n",
    "                        max_epochs=config.num_epochs,\n",
    "                        enable_checkpointing=False,\n",
    "                    )\n",
    "\n",
    "trainer.fit(finetuner)\n",
    "wandb.finish()"
   ]
  },
  {
   "cell_type": "markdown",
   "metadata": {},
   "source": [
    "# Save model"
   ]
  },
  {
   "cell_type": "code",
   "execution_count": 8,
   "metadata": {},
   "outputs": [],
   "source": [
    "if not os.path.exists('./loras'):\n",
    "    os.mkdir('loras')\n",
    "    \n",
    "finetuner.model.save_pretrained('./loras/llama_7B_8bit_hatespeech_classification')"
   ]
  },
  {
   "attachments": {},
   "cell_type": "markdown",
   "metadata": {},
   "source": [
    "# Fine-tune report\n",
    "\n",
    "[WanDB Report](https://api.wandb.ai/links/vetka925/qaqx6fhy)"
   ]
  }
 ],
 "metadata": {
  "kernelspec": {
   "display_name": "transformers",
   "language": "python",
   "name": "python3"
  },
  "language_info": {
   "codemirror_mode": {
    "name": "ipython",
    "version": 3
   },
   "file_extension": ".py",
   "mimetype": "text/x-python",
   "name": "python",
   "nbconvert_exporter": "python",
   "pygments_lexer": "ipython3",
   "version": "3.10.9"
  },
  "vscode": {
   "interpreter": {
    "hash": "924a3b04fe43f30915aa8df122b71dd508bc3d470b9e9ca76e559b1d5599b740"
   }
  }
 },
 "nbformat": 4,
 "nbformat_minor": 4
}
